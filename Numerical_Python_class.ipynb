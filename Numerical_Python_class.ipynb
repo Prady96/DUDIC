{
 "cells": [
  {
   "cell_type": "code",
   "execution_count": 1,
   "metadata": {
    "colab": {},
    "colab_type": "code",
    "id": "kJhuPGxltuCo"
   },
   "outputs": [],
   "source": [
    "import cmath\n",
    "\n",
    "def decrement(a, b, c):\n",
    "  d = (b**2) - (4*a*c)\n",
    "  return d"
   ]
  },
  {
   "cell_type": "code",
   "execution_count": 2,
   "metadata": {
    "colab": {},
    "colab_type": "code",
    "id": "vbhxq1LWtzzJ"
   },
   "outputs": [],
   "source": [
    "def quadratic_formula(a, b, c):\n",
    "    solX = (-b - cmath.sqrt(decrement(a, b, c))) / (2*a)\n",
    "    solY = (-b + cmath.sqrt(decrement(a, b, c))) / (2*a)\n",
    "\n",
    "    print('decrement of the function is : ', decrement(a, b, c))\n",
    "    \n",
    "    return solX, solY"
   ]
  },
  {
   "cell_type": "code",
   "execution_count": 3,
   "metadata": {
    "colab": {
     "base_uri": "https://localhost:8080/",
     "height": 34
    },
    "colab_type": "code",
    "id": "AWsxvlUTtzw3",
    "outputId": "89937f47-5c13-41bc-bb51-4df5c3e7a2e1"
   },
   "outputs": [
    {
     "name": "stdout",
     "output_type": "stream",
     "text": [
      "decrement of the function is :  1\n"
     ]
    }
   ],
   "source": [
    "solx, soly = quadratic_formula(1,5,6)"
   ]
  },
  {
   "cell_type": "code",
   "execution_count": 4,
   "metadata": {
    "colab": {
     "base_uri": "https://localhost:8080/",
     "height": 34
    },
    "colab_type": "code",
    "id": "RimrqznOtzts",
    "outputId": "ad681039-167b-4fb3-a1e5-d34a7a8ef8c4"
   },
   "outputs": [
    {
     "name": "stdout",
     "output_type": "stream",
     "text": [
      "(-3+0j)\n"
     ]
    }
   ],
   "source": [
    "print(solx)"
   ]
  },
  {
   "cell_type": "code",
   "execution_count": 5,
   "metadata": {
    "colab": {
     "base_uri": "https://localhost:8080/",
     "height": 34
    },
    "colab_type": "code",
    "id": "L2qdfBHttzrz",
    "outputId": "4f10b9cc-9dfb-4ce1-d6e3-0e14bf82b4a0"
   },
   "outputs": [
    {
     "name": "stdout",
     "output_type": "stream",
     "text": [
      "(-2+0j)\n"
     ]
    }
   ],
   "source": [
    "print(soly)"
   ]
  },
  {
   "cell_type": "code",
   "execution_count": 6,
   "metadata": {
    "colab": {
     "base_uri": "https://localhost:8080/",
     "height": 34
    },
    "colab_type": "code",
    "id": "_iYlwQGjtznA",
    "outputId": "d279930a-9ccd-402f-89a0-a78ffba35e3d"
   },
   "outputs": [
    {
     "name": "stdout",
     "output_type": "stream",
     "text": [
      "a: \n"
     ]
    }
   ],
   "source": [
    "a = input(\"a: \")"
   ]
  },
  {
   "cell_type": "code",
   "execution_count": 10,
   "metadata": {
    "colab": {
     "base_uri": "https://localhost:8080/",
     "height": 33
    },
    "colab_type": "code",
    "id": "0jOx0QbztzlB",
    "outputId": "467556f2-937a-4987-f2db-20329f8de0ed"
   },
   "outputs": [
    {
     "name": "stdout",
     "output_type": "stream",
     "text": [
      "a: 1\n"
     ]
    }
   ],
   "source": [
    "a = int(input(\"a: \"))"
   ]
  },
  {
   "cell_type": "code",
   "execution_count": 11,
   "metadata": {
    "colab": {},
    "colab_type": "code",
    "id": "w-9fRy1-tzjB"
   },
   "outputs": [],
   "source": [
    "factorial = 1\n",
    "for i in range(1,2):\n",
    "  factorial = factorial * i"
   ]
  },
  {
   "cell_type": "code",
   "execution_count": 12,
   "metadata": {
    "colab": {
     "base_uri": "https://localhost:8080/",
     "height": 34
    },
    "colab_type": "code",
    "id": "9owR-Zzmtzfu",
    "outputId": "26dec097-2200-43fd-8b4c-039457aef772"
   },
   "outputs": [
    {
     "name": "stdout",
     "output_type": "stream",
     "text": [
      "1\n"
     ]
    }
   ],
   "source": [
    "print(factorial)"
   ]
  },
  {
   "cell_type": "code",
   "execution_count": 13,
   "metadata": {
    "colab": {
     "base_uri": "https://localhost:8080/",
     "height": 168
    },
    "colab_type": "code",
    "id": "AOtYP8Zutzer",
    "outputId": "796bb1bb-e051-4e13-aff9-5ee127bb79d1"
   },
   "outputs": [
    {
     "name": "stdout",
     "output_type": "stream",
     "text": [
      "Hello World 1\n",
      "Hello World 2\n",
      "Hello World 3\n",
      "Hello World 4\n",
      "Hello World 5\n",
      "Hello World 6\n",
      "Hello World 7\n",
      "Hello World 8\n",
      "Hello World 9\n"
     ]
    }
   ],
   "source": [
    "for i in range(1, 10):\n",
    "  print('Hello World {}'.format(i))"
   ]
  },
  {
   "cell_type": "code",
   "execution_count": 14,
   "metadata": {
    "colab": {
     "base_uri": "https://localhost:8080/",
     "height": 34
    },
    "colab_type": "code",
    "id": "mwBa0Zk-tzda",
    "outputId": "503d9d49-a0f4-4ba3-862f-d23d3856917f"
   },
   "outputs": [
    {
     "name": "stdout",
     "output_type": "stream",
     "text": [
      "1 3 5 7 9 "
     ]
    }
   ],
   "source": [
    "for i in range(1,10,2):\n",
    "  print(i, end=\" \")"
   ]
  },
  {
   "cell_type": "code",
   "execution_count": null,
   "metadata": {
    "colab": {},
    "colab_type": "code",
    "id": "b1bpg75WtzZ2"
   },
   "outputs": [],
   "source": []
  },
  {
   "cell_type": "code",
   "execution_count": 15,
   "metadata": {
    "colab": {
     "base_uri": "https://localhost:8080/",
     "height": 34
    },
    "colab_type": "code",
    "id": "l_IrHaSeDwtl",
    "outputId": "b2362c0b-4c9d-40b9-f4ae-2a0e034f988e"
   },
   "outputs": [
    {
     "name": "stdout",
     "output_type": "stream",
     "text": [
      "120\n"
     ]
    }
   ],
   "source": [
    "def recursive_function(number):\n",
    "  # base case and there can be more than one base case\n",
    "  if number == 1:\n",
    "    return 1\n",
    "  else:\n",
    "    # step size\n",
    "    return number * recursive_function(number - 1)\n",
    "  \n",
    "answer = recursive_function(5)\n",
    "print(answer)"
   ]
  },
  {
   "cell_type": "markdown",
   "metadata": {
    "colab_type": "text",
    "id": "gaCQfQLvI1Kl"
   },
   "source": [
    "# **LIST**"
   ]
  },
  {
   "cell_type": "code",
   "execution_count": 16,
   "metadata": {
    "colab": {
     "base_uri": "https://localhost:8080/",
     "height": 67
    },
    "colab_type": "code",
    "id": "-4xpBxt3Dwrr",
    "outputId": "c570b91c-fe28-4c4d-9896-64e0e7884f4c"
   },
   "outputs": [
    {
     "name": "stdout",
     "output_type": "stream",
     "text": [
      "4\n",
      "7\n",
      "0\n"
     ]
    }
   ],
   "source": [
    "my_list = [4, 7, 0, 3, 4]\n",
    "my_iter = iter(my_list)\n",
    "\n",
    "print(next(my_iter))\n",
    "print(next(my_iter))\n",
    "\n",
    "print(my_iter.__next__())"
   ]
  },
  {
   "cell_type": "code",
   "execution_count": 17,
   "metadata": {
    "colab": {
     "base_uri": "https://localhost:8080/",
     "height": 34
    },
    "colab_type": "code",
    "id": "MnxYZCdrJ-wj",
    "outputId": "a37461a8-ede9-4696-a1ea-3003ea33b265"
   },
   "outputs": [
    {
     "name": "stdout",
     "output_type": "stream",
     "text": [
      "5\n"
     ]
    }
   ],
   "source": [
    "print(len(my_list))"
   ]
  },
  {
   "cell_type": "code",
   "execution_count": 18,
   "metadata": {
    "colab": {
     "base_uri": "https://localhost:8080/",
     "height": 134
    },
    "colab_type": "code",
    "id": "Lx0Ggn5yDwoi",
    "outputId": "d1c79313-c21d-4cb8-f31f-71eba31c60a1"
   },
   "outputs": [
    {
     "name": "stdout",
     "output_type": "stream",
     "text": [
      "4\n",
      "7\n",
      "0\n",
      "3\n",
      "4\n",
      "19\n",
      "total mean : 3\n"
     ]
    }
   ],
   "source": [
    "mean = 1\n",
    "if len(my_list) > 1:\n",
    "    for element in my_list:\n",
    "        print(element)\n",
    "        mean = mean + element\n",
    "   \n",
    "\n",
    "print(mean)\n",
    "print('total mean :', int(mean/len(my_list)))"
   ]
  },
  {
   "cell_type": "markdown",
   "metadata": {
    "colab_type": "text",
    "id": "-paVx_xePUy0"
   },
   "source": [
    "# Trapezoidal Rule\n"
   ]
  },
  {
   "cell_type": "code",
   "execution_count": 19,
   "metadata": {
    "colab": {},
    "colab_type": "code",
    "id": "Gdit-RzoBGCM"
   },
   "outputs": [],
   "source": [
    "from math import sin"
   ]
  },
  {
   "cell_type": "code",
   "execution_count": 20,
   "metadata": {
    "colab": {
     "base_uri": "https://localhost:8080/",
     "height": 34
    },
    "colab_type": "code",
    "id": "rx6hPU3iDwnT",
    "outputId": "17be3557-6c81-4861-f475-ebf701cb5400"
   },
   "outputs": [
    {
     "name": "stdout",
     "output_type": "stream",
     "text": [
      "Integral Value 1.0000002056167847\n"
     ]
    }
   ],
   "source": [
    "from math import sin, pi\n",
    "value = 0\n",
    "\n",
    "def f(x):\n",
    "  return x*sin(x)\n",
    "  \n",
    "a = 0 ## lower limit\n",
    "b = pi/2 ## upper limit\n",
    "n = 1000 ## number of division\n",
    "\n",
    "## h value\n",
    "h = (b - a) / n\n",
    "\n",
    "## formula\n",
    "S = 0.5 * (f(a) + f(b))\n",
    "\n",
    "##\n",
    "for i in range(1, n):\n",
    "  S = S +  f(a + i*h)\n",
    "Integral = h * S\n",
    "print('Integral Value {}'.format(Integral))"
   ]
  },
  {
   "cell_type": "markdown",
   "metadata": {
    "colab_type": "text",
    "id": "glo2lolgZ6kz"
   },
   "source": [
    "# **Euler Method**"
   ]
  },
  {
   "cell_type": "code",
   "execution_count": 21,
   "metadata": {
    "colab": {
     "base_uri": "https://localhost:8080/",
     "height": 118
    },
    "colab_type": "code",
    "id": "ufOJJbc4Dwk8",
    "outputId": "5084c47a-3259-49cb-d5e7-cec3bd4d8710"
   },
   "outputs": [
    {
     "name": "stdout",
     "output_type": "stream",
     "text": [
      "x  \t\t  y(Euler) \t\t  y(Analytical)\n",
      "0  \t\t 1 \t\t  1.0\n",
      "0.5 \t\t 1.0 \t\t 1.1331484530668263\n",
      "1.0 \t\t 1.25 \t\t 1.6487212707001282\n",
      "1.5 \t\t 1.875 \t\t 3.080216848918031\n",
      "2.0 \t\t 3.28125 \t\t 7.38905609893065\n"
     ]
    }
   ],
   "source": [
    "from math import exp\n",
    "\n",
    "def dy(x,y):\n",
    "  return x*y\n",
    "\n",
    "## Analytical Sollution\n",
    "def f(x):\n",
    "  return exp(x**2/2)\n",
    "\n",
    "## starting and final value of x\n",
    "x = 0\n",
    "xn = 2\n",
    "\n",
    "## Initial value of y\n",
    "y = 1\n",
    "\n",
    "## Step Size\n",
    "h = 0.5\n",
    "\n",
    "## Total number of steps\n",
    "n = int((xn - x)/h)\n",
    "\n",
    "## header\n",
    "print('x  \\t\\t  y(Euler) \\t\\t  y(Analytical)')\n",
    "print('{0}  \\t\\t {1} \\t\\t  {2}'.format(x, y, f(x)))\n",
    "for i in range(n):\n",
    "  y += dy(x,y)*h ## calculate next h\n",
    "  x += h        ## x increment\n",
    "  print('{} \\t\\t {} \\t\\t {}'.format(x,y,f(x)))"
   ]
  },
  {
   "cell_type": "code",
   "execution_count": 22,
   "metadata": {
    "colab": {},
    "colab_type": "code",
    "id": "59hFqPlrDwgA"
   },
   "outputs": [],
   "source": [
    "## Tabular Format"
   ]
  },
  {
   "cell_type": "code",
   "execution_count": 23,
   "metadata": {
    "colab": {},
    "colab_type": "code",
    "id": "_wMwlgq9Dwc0"
   },
   "outputs": [],
   "source": [
    "num = 1\n",
    "num2 = 2"
   ]
  },
  {
   "cell_type": "code",
   "execution_count": 24,
   "metadata": {
    "colab": {
     "base_uri": "https://localhost:8080/",
     "height": 34
    },
    "colab_type": "code",
    "id": "AVJL6BaiDwaZ",
    "outputId": "7322576d-5584-4ab9-80e2-3a0bebc95555"
   },
   "outputs": [
    {
     "name": "stdout",
     "output_type": "stream",
     "text": [
      "Hello World 1 num 2\n"
     ]
    }
   ],
   "source": [
    "print(\"Hello World {0} num {1}\".format(num,num2))"
   ]
  },
  {
   "cell_type": "code",
   "execution_count": 25,
   "metadata": {
    "colab": {},
    "colab_type": "code",
    "id": "esYd18uPDwY6"
   },
   "outputs": [
    {
     "name": "stdout",
     "output_type": "stream",
     "text": [
      "The solution are (-3+0j) and (-2+0j)\n"
     ]
    }
   ],
   "source": [
    "# Solve the quadratic equation ax**2 + bx + c = 0\n",
    "\n",
    "# import complex math module\n",
    "import cmath\n",
    "\n",
    "a = 1\n",
    "b = 5\n",
    "c = 6\n",
    "\n",
    "# To take coefficient input from the users\n",
    "# a = float(input('Enter a: '))\n",
    "# b = float(input('Enter b: '))\n",
    "# c = float(input('Enter c: '))\n",
    "\n",
    "# calculate the discriminant\n",
    "d = (b**2) - (4*a*c)\n",
    "\n",
    "# find two solutions\n",
    "sol1 = (-b-cmath.sqrt(d))/(2*a)\n",
    "sol2 = (-b+cmath.sqrt(d))/(2*a)\n",
    "\n",
    "print('The solution are {0} and {1}'.format(sol1,sol2))"
   ]
  },
  {
   "cell_type": "code",
   "execution_count": 26,
   "metadata": {
    "colab": {},
    "colab_type": "code",
    "id": "h6iWhuCwDwV_"
   },
   "outputs": [],
   "source": [
    "# Solve the quadratic equation ax**2 + bx + c = 0\n",
    "\n",
    "# import complex math module\n",
    "import cmath\n",
    "\n",
    "a = 1\n",
    "b = 5\n",
    "c = 6"
   ]
  },
  {
   "cell_type": "code",
   "execution_count": 27,
   "metadata": {
    "colab": {},
    "colab_type": "code",
    "id": "YNWFxo2ntzVh"
   },
   "outputs": [],
   "source": [
    "\n",
    "# To take coefficient input from the users\n",
    "# a = float(input('Enter a: '))\n",
    "# b = float(input('Enter b: '))\n",
    "# c = float(input('Enter c: '))\n",
    "\n",
    "# calculate the discriminant\n",
    "d = (b**2) - (4*a*c)\n"
   ]
  },
  {
   "cell_type": "code",
   "execution_count": 28,
   "metadata": {
    "colab": {
     "base_uri": "https://localhost:8080/",
     "height": 34
    },
    "colab_type": "code",
    "id": "-ESVRzk-tzTC",
    "outputId": "73a3d764-c1f2-4915-b9bd-9c1df083212f"
   },
   "outputs": [
    {
     "name": "stdout",
     "output_type": "stream",
     "text": [
      "The solution are (-3+0j) and (-2+0j)\n"
     ]
    }
   ],
   "source": [
    "# find two solutions\n",
    "sol1 = (-b-cmath.sqrt(d))/(2*a)\n",
    "sol2 = (-b+cmath.sqrt(d))/(2*a)\n",
    "\n",
    "print('The solution are {0} and {1}'.format(sol1,sol2))"
   ]
  },
  {
   "cell_type": "code",
   "execution_count": null,
   "metadata": {
    "colab": {},
    "colab_type": "code",
    "id": "F_B-hQdGtzQf"
   },
   "outputs": [],
   "source": []
  },
  {
   "cell_type": "code",
   "execution_count": 29,
   "metadata": {
    "colab": {},
    "colab_type": "code",
    "id": "ltHPFhw45uD-"
   },
   "outputs": [],
   "source": [
    "num = 7"
   ]
  },
  {
   "cell_type": "code",
   "execution_count": 30,
   "metadata": {
    "colab": {
     "base_uri": "https://localhost:8080/",
     "height": 134
    },
    "colab_type": "code",
    "id": "ktUZXZXs5uCE",
    "outputId": "f68162e1-16ca-4fc5-a739-9e9399bcc2f1"
   },
   "outputs": [
    {
     "name": "stdout",
     "output_type": "stream",
     "text": [
      "the factorial of  1\n",
      "the factorial of  2\n",
      "the factorial of  6\n",
      "the factorial of  24\n",
      "the factorial of  120\n",
      "the factorial of  720\n",
      "the factorial of  5040\n"
     ]
    }
   ],
   "source": [
    "for i in range(1, num+1):\n",
    "        factorial = factorial*i\n",
    "        print('the factorial of ', factorial)"
   ]
  },
  {
   "cell_type": "code",
   "execution_count": null,
   "metadata": {
    "colab": {},
    "colab_type": "code",
    "id": "H_ugBdlA5uAI"
   },
   "outputs": [],
   "source": [
    "  "
   ]
  },
  {
   "cell_type": "code",
   "execution_count": 33,
   "metadata": {
    "colab": {
     "base_uri": "https://localhost:8080/",
     "height": 129
    },
    "colab_type": "code",
    "id": "KSdpENAS5t9G",
    "outputId": "c002fd93-884f-4204-c57f-c6c4a1d37d05"
   },
   "outputs": [
    {
     "name": "stdout",
     "output_type": "stream",
     "text": [
      "10\n",
      "Hello WOrld\n"
     ]
    }
   ],
   "source": [
    "def your_name(numb):\n",
    "  \"\"\"\n",
    "  modules print number above\n",
    "  \"\"\"\n",
    "  print(numb)\n",
    "  print('Hello WOrld')\n",
    "\n",
    "  number = 5\n",
    "\n",
    "\n",
    "\n",
    "  def mention_name(name):\n",
    "    print('Blah')\n",
    "\n",
    "    number = 5\n",
    "\n",
    "\n",
    "\n",
    "\n",
    "number = 10\n",
    "your_name(number)\n",
    "# print(numb)"
   ]
  },
  {
   "cell_type": "code",
   "execution_count": 34,
   "metadata": {
    "colab": {
     "base_uri": "https://localhost:8080/",
     "height": 84
    },
    "colab_type": "code",
    "id": "Or5TRoZiESpt",
    "outputId": "f584f7bd-bfb5-4c7a-aff3-66c37b4a2785"
   },
   "outputs": [
    {
     "name": "stdout",
     "output_type": "stream",
     "text": [
      "Help on function your_name in module __main__:\n",
      "\n",
      "your_name(numb)\n",
      "    modules print number above\n",
      "\n"
     ]
    }
   ],
   "source": [
    "help(your_name)"
   ]
  },
  {
   "cell_type": "raw",
   "metadata": {
    "colab": {},
    "colab_type": "code",
    "id": "xo5TGySc5t28"
   },
   "source": [
    "if condition == value:\n",
    "  print('Blah')\n",
    "elif condition != value:\n",
    "  print('blah blah')\n",
    "else:\n",
    "  print('Foo')"
   ]
  },
  {
   "cell_type": "code",
   "execution_count": 39,
   "metadata": {
    "colab": {},
    "colab_type": "code",
    "id": "hNGZLEqV5t0X"
   },
   "outputs": [],
   "source": [
    "variable = 5"
   ]
  },
  {
   "cell_type": "code",
   "execution_count": 40,
   "metadata": {
    "colab": {},
    "colab_type": "code",
    "id": "eviH-2Ss5ty5"
   },
   "outputs": [],
   "source": [
    "a = 10"
   ]
  },
  {
   "cell_type": "code",
   "execution_count": 41,
   "metadata": {
    "colab": {
     "base_uri": "https://localhost:8080/",
     "height": 34
    },
    "colab_type": "code",
    "id": "gICT1FVa5tv6",
    "outputId": "0b795983-df89-4e9d-9f0c-a5753b3e6e43"
   },
   "outputs": [],
   "source": [
    "def expression(num):\n",
    "  num = num + 1\n",
    "  return num\n",
    "\n",
    "a = 10\n",
    "ans = expression(a)"
   ]
  },
  {
   "cell_type": "code",
   "execution_count": 42,
   "metadata": {
    "colab": {
     "base_uri": "https://localhost:8080/",
     "height": 34
    },
    "colab_type": "code",
    "id": "1SU5Oap4HZVX",
    "outputId": "fb7a6e6d-e53a-4dac-e9ec-670bfcf65fbf"
   },
   "outputs": [
    {
     "name": "stdout",
     "output_type": "stream",
     "text": [
      "3.141592653589793\n"
     ]
    }
   ],
   "source": [
    "from math import pi\n",
    "\n",
    "print(pi)"
   ]
  },
  {
   "cell_type": "code",
   "execution_count": 43,
   "metadata": {
    "colab": {
     "base_uri": "https://localhost:8080/",
     "height": 34
    },
    "colab_type": "code",
    "id": "VvRVBvM3GGsc",
    "outputId": "d69f63ba-d13f-4937-b9b5-454930ab2629"
   },
   "outputs": [
    {
     "name": "stdout",
     "output_type": "stream",
     "text": [
      "area of the circle is  314.1592653589793\n"
     ]
    }
   ],
   "source": [
    "from math import pi\n",
    "\n",
    "def area_of_circle(radius):\n",
    "  ans = pi * radius * radius\n",
    "  return ans\n",
    "\n",
    "def check(radius):\n",
    "  if radius != 0:\n",
    "    area_of_circle(radius)\n",
    "  elif radius < 0:\n",
    "    print()\n",
    "\n",
    "print(\"area of the circle is \",area_of_circle(10))"
   ]
  },
  {
   "cell_type": "code",
   "execution_count": 0,
   "metadata": {
    "colab": {},
    "colab_type": "code",
    "id": "EdQLJr-xIJEj"
   },
   "outputs": [],
   "source": []
  }
 ],
 "metadata": {
  "accelerator": "GPU",
  "colab": {
   "collapsed_sections": [],
   "name": "Numerical Python.ipynb",
   "provenance": []
  },
  "kernelspec": {
   "display_name": "Python 3",
   "language": "python",
   "name": "python3"
  },
  "language_info": {
   "codemirror_mode": {
    "name": "ipython",
    "version": 3
   },
   "file_extension": ".py",
   "mimetype": "text/x-python",
   "name": "python",
   "nbconvert_exporter": "python",
   "pygments_lexer": "ipython3",
   "version": "3.6.5"
  }
 },
 "nbformat": 4,
 "nbformat_minor": 1
}
