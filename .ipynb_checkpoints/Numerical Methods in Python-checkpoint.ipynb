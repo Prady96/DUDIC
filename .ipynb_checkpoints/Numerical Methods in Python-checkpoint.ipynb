{
 "cells": [
  {
   "cell_type": "markdown",
   "metadata": {},
   "source": [
    "## Solving a quadratic equation"
   ]
  },
  {
   "cell_type": "code",
   "execution_count": 2,
   "metadata": {},
   "outputs": [
    {
     "name": "stdout",
     "output_type": "stream",
     "text": [
      "/home/prady/DUDIC/DUDIC\r\n"
     ]
    }
   ],
   "source": [
    "!pwd"
   ]
  },
  {
   "cell_type": "code",
   "execution_count": 101,
   "metadata": {},
   "outputs": [
    {
     "data": {
      "text/plain": [
       "<matplotlib.image.AxesImage at 0x11cc987b8>"
      ]
     },
     "execution_count": 101,
     "metadata": {},
     "output_type": "execute_result"
    },
    {
     "data": {
      "image/png": "[encoded data removed]",
      "text/plain": [
       "<Figure size 432x288 with 1 Axes>"
      ]
     },
     "metadata": {
      "needs_background": "light"
     },
     "output_type": "display_data"
    }
   ],
   "source": [
    "import cv2\n",
    "import matplotlib.pyplot as plt\n",
    "\n",
    "plt.title(\"Quadratic Formula\")\n",
    "quad = cv2.imread(\"images/quadraticformula.png\")\n",
    "plt.imshow(quad, cmap='gray')"
   ]
  },
  {
   "cell_type": "markdown",
   "metadata": {},
   "source": [
    "![\\Large x=\\frac{-b\\pm\\sqrt{b^2-4ac}}{2a}](https://latex.codecogs.com/svg.latex?x%3D%5Cfrac%7B-b%5Cpm%5Csqrt%7Bb%5E2-4ac%7D%7D%7B2a%7D)\n"
   ]
  },
  {
   "cell_type": "markdown",
   "metadata": {},
   "source": [
    "$x = [1,2,3]$\n",
    "\n",
    "$y1 = x^2$\n",
    "\n",
    "$y2 = y^2$"
   ]
  },
  {
   "cell_type": "code",
   "execution_count": 24,
   "metadata": {},
   "outputs": [],
   "source": [
    "# https://stackoverflow.com/a/47798853\n",
    "#https://www.codecogs.com/latex/eqneditor.php\n",
    "\n",
    "\n",
    "## Try yourself\n",
    "## Generate inline formula yourself"
   ]
  },
  {
   "cell_type": "markdown",
   "metadata": {},
   "source": [
    "![\\Large x=\\frac{-b\\pm\\sqrt{b^2-4ac}}{2a}](https://latex.codecogs.com/png.latex?\\sum&space;\\sum&space;\\because&space;\\left&space;\\|&space;\\varepsilon&space;\\imath&space;\\imath&space;\\sqsubseteq&space;6325\\,&space;\\right&space;\\|)"
   ]
  },
  {
   "cell_type": "code",
   "execution_count": null,
   "metadata": {},
   "outputs": [],
   "source": [
    "## solving quadratic equation\n",
    "## Generel case\n"
   ]
  },
  {
   "cell_type": "code",
   "execution_count": 37,
   "metadata": {},
   "outputs": [
    {
     "name": "stdout",
     "output_type": "stream",
     "text": [
      "The solution are (-3+0j) and (-2+0j)\n"
     ]
    }
   ],
   "source": [
    "# Solve the quadratic equation ax**2 + bx + c = 0\n",
    "\n",
    "# import complex math module\n",
    "import cmath\n",
    "\n",
    "a = 1\n",
    "b = 5\n",
    "c = 6\n",
    "\n",
    "# To take coefficient input from the users\n",
    "# a = float(input('Enter a: '))\n",
    "# b = float(input('Enter b: '))\n",
    "# c = float(input('Enter c: '))\n",
    "\n",
    "# calculate the discriminant\n",
    "d = (b**2) - (4*a*c)\n",
    "\n",
    "# find two solutions\n",
    "sol1 = (-b-cmath.sqrt(d))/(2*a)\n",
    "sol2 = (-b+cmath.sqrt(d))/(2*a)\n",
    "\n",
    "print('The solution are {0} and {1}'.format(sol1,sol2))"
   ]
  },
  {
   "cell_type": "code",
   "execution_count": null,
   "metadata": {},
   "outputs": [],
   "source": []
  },
  {
   "cell_type": "code",
   "execution_count": 1,
   "metadata": {},
   "outputs": [],
   "source": [
    "## complex number math function\n",
    "import cmath"
   ]
  },
  {
   "cell_type": "code",
   "execution_count": 33,
   "metadata": {},
   "outputs": [],
   "source": [
    "def decrement(a,b,c):\n",
    "    d = (b**2) - (4*a*c)\n",
    "    return d\n",
    "\n",
    "def quadratic_formula(a, b, c):\n",
    "    solX = (-b - cmath.sqrt(decrement(a, b, c))) / (2*a)\n",
    "    solY = (-b + cmath.sqrt(decrement(a, b, c))) / (2*a)\n",
    "\n",
    "    print('decrement of the function is : ', decrement(a, b, c))\n",
    "    \n",
    "    return solX, solY"
   ]
  },
  {
   "cell_type": "code",
   "execution_count": 34,
   "metadata": {},
   "outputs": [
    {
     "name": "stdout",
     "output_type": "stream",
     "text": [
      "decrement of the function is :  1\n"
     ]
    }
   ],
   "source": [
    "solx , soly = quadratic_formula(1,5,6)"
   ]
  },
  {
   "cell_type": "code",
   "execution_count": 35,
   "metadata": {},
   "outputs": [
    {
     "name": "stdout",
     "output_type": "stream",
     "text": [
      "(-3+0j)\n"
     ]
    }
   ],
   "source": [
    "print(solx)"
   ]
  },
  {
   "cell_type": "code",
   "execution_count": 36,
   "metadata": {},
   "outputs": [
    {
     "name": "stdout",
     "output_type": "stream",
     "text": [
      "(-2+0j)\n"
     ]
    }
   ],
   "source": [
    "print(soly)"
   ]
  },
  {
   "cell_type": "code",
   "execution_count": null,
   "metadata": {},
   "outputs": [],
   "source": []
  },
  {
   "cell_type": "code",
   "execution_count": 27,
   "metadata": {},
   "outputs": [],
   "source": [
    "## math"
   ]
  },
  {
   "cell_type": "code",
   "execution_count": 28,
   "metadata": {},
   "outputs": [],
   "source": [
    "from math import sqrt"
   ]
  },
  {
   "cell_type": "code",
   "execution_count": 29,
   "metadata": {},
   "outputs": [],
   "source": [
    "def decrement(a,b,c):\n",
    "    d = (b**2) - (4*a*c)\n",
    "    return d\n",
    "\n",
    "def quadratic_formula(a, b, c):\n",
    "    solX = (-b - sqrt(decrement(a, b, c))) / (2*a)\n",
    "    solY = (-b + sqrt(decrement(a, b, c))) / (2*a)\n",
    "\n",
    "    print('decrement of the function is : ', decrement(a, b, c))\n",
    "    \n",
    "    return solX, solY"
   ]
  },
  {
   "cell_type": "code",
   "execution_count": 30,
   "metadata": {},
   "outputs": [
    {
     "name": "stdout",
     "output_type": "stream",
     "text": [
      "decrement of the function is :  200\n"
     ]
    }
   ],
   "source": [
    "solx , soly = quadratic_formula(5,20,10)"
   ]
  },
  {
   "cell_type": "code",
   "execution_count": 31,
   "metadata": {},
   "outputs": [
    {
     "name": "stdout",
     "output_type": "stream",
     "text": [
      "-3.414213562373095\n"
     ]
    }
   ],
   "source": [
    "print(solx)"
   ]
  },
  {
   "cell_type": "code",
   "execution_count": 32,
   "metadata": {},
   "outputs": [
    {
     "name": "stdout",
     "output_type": "stream",
     "text": [
      "-0.5857864376269049\n"
     ]
    }
   ],
   "source": [
    "print(soly)"
   ]
  },
  {
   "cell_type": "code",
   "execution_count": null,
   "metadata": {},
   "outputs": [],
   "source": []
  },
  {
   "cell_type": "code",
   "execution_count": 38,
   "metadata": {},
   "outputs": [],
   "source": [
    "## input to code"
   ]
  },
  {
   "cell_type": "code",
   "execution_count": 2,
   "metadata": {},
   "outputs": [],
   "source": [
    "from math import sqrt"
   ]
  },
  {
   "cell_type": "code",
   "execution_count": 3,
   "metadata": {},
   "outputs": [
    {
     "name": "stdout",
     "output_type": "stream",
     "text": [
      "a: 1\n",
      "b: 5\n",
      "c: 6\n",
      "decrement of the function is :  1\n",
      "solution of x:  -3.0\n",
      "solution of y:  -2.0\n"
     ]
    }
   ],
   "source": [
    "a = int(input('a: '))\n",
    "b = int(input('b: '))\n",
    "c = int(input('c: '))\n",
    "\n",
    "\n",
    "def decrement(a,b,c):\n",
    "    d = (b**2) - (4*a*c)\n",
    "    return d\n",
    "\n",
    "def quadratic_formula(a, b, c):\n",
    "    solX = (-b - sqrt(decrement(a, b, c))) / (2*a)\n",
    "    solY = (-b + sqrt(decrement(a, b, c))) / (2*a)\n",
    "\n",
    "    print('decrement of the function is : ', decrement(a, b, c))\n",
    "    \n",
    "    return solX, solY\n",
    "\n",
    "solx , soly = quadratic_formula(a, b, c)\n",
    "print('solution of x: ',solx)\n",
    "print('solution of y: ',soly)"
   ]
  },
  {
   "cell_type": "code",
   "execution_count": null,
   "metadata": {},
   "outputs": [],
   "source": []
  },
  {
   "cell_type": "code",
   "execution_count": null,
   "metadata": {},
   "outputs": [],
   "source": [
    "## if else statements"
   ]
  },
  {
   "cell_type": "code",
   "execution_count": 1,
   "metadata": {},
   "outputs": [
    {
     "name": "stdout",
     "output_type": "stream",
     "text": [
      "Quadratic function : (a * x^2) + b*x + c\n",
      "a: 1\n",
      "b: 10\n",
      "c: 2\n",
      "decrement of the function is :  92\n",
      "There are 2 roots x is  -9.79583152331272 y root is  -0.2041684766872809\n"
     ]
    }
   ],
   "source": [
    "from math import sqrt\n",
    "\n",
    "print(\"Quadratic function : (a * x^2) + b*x + c\")\n",
    "\n",
    "a = int(input(\"a: \"))\n",
    "b = int(input(\"b: \"))\n",
    "c = int(input(\"c: \"))\n",
    "\n",
    "def decrement(a=a, b=b, c=c):\n",
    "    d = (b**2) - (4*a*c)\n",
    "    return d\n",
    "\n",
    "def quadratic_formula(a=a, b=b, c=c):\n",
    "    solX = (-b - sqrt(decrement)) / (2*a)\n",
    "    solY = (-b + sqrt(decrement)) / (2*a)\n",
    "\n",
    "    print('decrement of the function is : ', decrement)\n",
    "    \n",
    "    return solX, solY\n",
    "\n",
    "decrement = decrement()\n",
    "    \n",
    "if decrement > 0:\n",
    "    num_roots = 2\n",
    "    solx , soly = quadratic_formula()\n",
    "    print('There are 2 roots x is ', solx, 'y root is ', soly)\n",
    "    \n",
    "elif decrement == 0:\n",
    "    num_roots = 1\n",
    "    x = (-b) / (2*a)\n",
    "    print('there are ', num_roots, ' here ', x)\n",
    "\n",
    "else:\n",
    "    num_roots = 0\n",
    "    print('No roots, decrement ')"
   ]
  },
  {
   "cell_type": "code",
   "execution_count": null,
   "metadata": {},
   "outputs": [],
   "source": []
  },
  {
   "cell_type": "code",
   "execution_count": null,
   "metadata": {},
   "outputs": [],
   "source": []
  },
  {
   "cell_type": "markdown",
   "metadata": {},
   "source": [
    "## Factorial of a number"
   ]
  },
  {
   "cell_type": "code",
   "execution_count": 7,
   "metadata": {},
   "outputs": [],
   "source": [
    "## iterative method\n",
    "\n",
    "## basic method"
   ]
  },
  {
   "cell_type": "code",
   "execution_count": 8,
   "metadata": {},
   "outputs": [
    {
     "name": "stdout",
     "output_type": "stream",
     "text": [
      "Enter a number: 1\n",
      "Enter factorial for 2\n",
      "the factorial of  2\n"
     ]
    }
   ],
   "source": [
    "## value of different result\n",
    "num = int(input('Enter a number: '))\n",
    "factorial = int(input('Enter factorial for '))\n",
    "\n",
    "if num < 0:\n",
    "    print('No Factorial of a number')\n",
    "elif num == 0:\n",
    "    print('The Factorial of 0 is 1')\n",
    "else:\n",
    "    for i in range(1, num+1):\n",
    "        factorial = factorial*i\n",
    "        print('the factorial of ', factorial)"
   ]
  },
  {
   "cell_type": "code",
   "execution_count": null,
   "metadata": {},
   "outputs": [],
   "source": []
  },
  {
   "cell_type": "code",
   "execution_count": null,
   "metadata": {},
   "outputs": [],
   "source": [
    "## 3"
   ]
  },
  {
   "cell_type": "code",
   "execution_count": null,
   "metadata": {},
   "outputs": [],
   "source": [
    "## 3 x 2 x 1"
   ]
  },
  {
   "cell_type": "code",
   "execution_count": null,
   "metadata": {},
   "outputs": [],
   "source": []
  },
  {
   "cell_type": "code",
   "execution_count": 51,
   "metadata": {},
   "outputs": [
    {
     "name": "stdout",
     "output_type": "stream",
     "text": [
      "Enter a number: 3\n",
      "Enter factorial for 1\n",
      "factorial of  3 is 6\n"
     ]
    }
   ],
   "source": [
    "def factorial_formula(number, factorial = 1):\n",
    "    for i in range(1, number+1):\n",
    "        factorial = factorial * i\n",
    "    print('factorial of ', number, 'is', factorial)\n",
    "\n",
    "def check(number, factorial):\n",
    "    if num < 0:\n",
    "        print('No Factorial of a number')\n",
    "    elif num == 0:\n",
    "        print('The Factorial of 0 is 1')\n",
    "    else:\n",
    "        factorial_formula(num, fact_num)\n",
    "\n",
    "\n",
    "\n",
    "num = int(input('Enter a number: '))\n",
    "fact_num = int(input('Enter factorial for '))\n",
    "check(num, fact_num)"
   ]
  },
  {
   "cell_type": "code",
   "execution_count": 49,
   "metadata": {},
   "outputs": [
    {
     "name": "stdout",
     "output_type": "stream",
     "text": [
      "<class 'int'>\n"
     ]
    }
   ],
   "source": [
    "print(type(num))"
   ]
  },
  {
   "cell_type": "code",
   "execution_count": 50,
   "metadata": {},
   "outputs": [
    {
     "name": "stdout",
     "output_type": "stream",
     "text": [
      "<class 'function'>\n"
     ]
    }
   ],
   "source": [
    "print(type(factorial_formula))"
   ]
  },
  {
   "cell_type": "code",
   "execution_count": null,
   "metadata": {},
   "outputs": [],
   "source": []
  },
  {
   "cell_type": "code",
   "execution_count": 58,
   "metadata": {},
   "outputs": [
    {
     "name": "stdout",
     "output_type": "stream",
     "text": [
      "Enter a number: 7\n",
      "Enter factorial for 1\n",
      "factorial of  7  is  5040\n"
     ]
    }
   ],
   "source": [
    "def recursive_factorial(number , factorial = 1):\n",
    "    \"\"\"\n",
    "    recursive function\n",
    "    \"\"\"\n",
    "    if number == 1:\n",
    "        return number\n",
    "    else:\n",
    "        return number * recursive_factorial(number - 1)\n",
    "\n",
    "def check(number, factorial):\n",
    "    \"\"\"\n",
    "    \n",
    "    \"\"\"\n",
    "    if num < 0:\n",
    "        print('No Factorial of a number')\n",
    "    elif num == 0:\n",
    "        print('The Factorial of 0 is 1')\n",
    "    else:\n",
    "        print('factorial of ', number,' is ', recursive_factorial(number, factorial))\n",
    "\n",
    "num = int(input('Enter a number: '))\n",
    "fact_num = int(input('Enter factorial for '))\n",
    "check(num, fact_num)"
   ]
  },
  {
   "cell_type": "code",
   "execution_count": null,
   "metadata": {},
   "outputs": [],
   "source": []
  },
  {
   "cell_type": "markdown",
   "metadata": {},
   "source": [
    "## Statistics\n",
    "\n",
    "    -mean\n",
    "    -median\n",
    "    -variance\n",
    "    -std"
   ]
  },
  {
   "cell_type": "code",
   "execution_count": 59,
   "metadata": {},
   "outputs": [
    {
     "name": "stdout",
     "output_type": "stream",
     "text": [
      "Object `statistics` not found.\n"
     ]
    }
   ],
   "source": [
    "import statistics?"
   ]
  },
  {
   "cell_type": "code",
   "execution_count": 60,
   "metadata": {},
   "outputs": [],
   "source": [
    "import statistics"
   ]
  },
  {
   "cell_type": "code",
   "execution_count": 61,
   "metadata": {},
   "outputs": [],
   "source": [
    "statistics?"
   ]
  },
  {
   "cell_type": "code",
   "execution_count": null,
   "metadata": {},
   "outputs": [],
   "source": []
  },
  {
   "cell_type": "code",
   "execution_count": 79,
   "metadata": {},
   "outputs": [
    {
     "name": "stdout",
     "output_type": "stream",
     "text": [
      "4\n",
      "7\n",
      "0\n"
     ]
    }
   ],
   "source": [
    "my_list = [4, 7, 0, 3]\n",
    "my_iter = iter(my_list)\n",
    "\n",
    "\n",
    "print(next(my_iter))\n",
    "print(next(my_iter))\n",
    "\n",
    "print(my_iter.__next__())"
   ]
  },
  {
   "cell_type": "code",
   "execution_count": 80,
   "metadata": {},
   "outputs": [
    {
     "name": "stdout",
     "output_type": "stream",
     "text": [
      "total mean : 0.0\n"
     ]
    }
   ],
   "source": [
    "mean = 0\n",
    "if len(my_list) < 1:\n",
    "    for element in my_list:\n",
    "        mean = mean + element\n",
    "\n",
    "print('total mean :', mean/len(my_list))"
   ]
  },
  {
   "cell_type": "code",
   "execution_count": 75,
   "metadata": {},
   "outputs": [],
   "source": [
    "## object for the loop\n",
    "iter_object = iter(my_list)"
   ]
  },
  {
   "cell_type": "code",
   "execution_count": 76,
   "metadata": {},
   "outputs": [
    {
     "name": "stdout",
     "output_type": "stream",
     "text": [
      "4\n",
      "7\n",
      "0\n",
      "3\n"
     ]
    }
   ],
   "source": [
    "while True:\n",
    "    try:\n",
    "        # get the next element\n",
    "        element = next(iter_object)\n",
    "        print(element)\n",
    "        ## do something with element\n",
    "    except StopIteration:\n",
    "        break"
   ]
  },
  {
   "cell_type": "code",
   "execution_count": 77,
   "metadata": {},
   "outputs": [
    {
     "data": {
      "text/plain": [
       "4"
      ]
     },
     "execution_count": 77,
     "metadata": {},
     "output_type": "execute_result"
    }
   ],
   "source": [
    "len(my_list)"
   ]
  },
  {
   "cell_type": "code",
   "execution_count": null,
   "metadata": {},
   "outputs": [],
   "source": []
  },
  {
   "cell_type": "code",
   "execution_count": 84,
   "metadata": {},
   "outputs": [
    {
     "name": "stdout",
     "output_type": "stream",
     "text": [
      "4\n",
      "total mean : 3\n"
     ]
    }
   ],
   "source": [
    "my_list = [4, 7, 0, 3]\n",
    "\n",
    "def mean(my_list):\n",
    "    final_mean = 0\n",
    "    if len(my_list) > 1:\n",
    "        print(len(my_list))\n",
    "        for element in my_list:\n",
    "            final_mean = final_mean + element\n",
    "    return final_mean\n",
    "\n",
    "print('total mean :', int(mean(my_list)/len(my_list)))"
   ]
  },
  {
   "cell_type": "code",
   "execution_count": null,
   "metadata": {},
   "outputs": [],
   "source": []
  },
  {
   "cell_type": "code",
   "execution_count": 4,
   "metadata": {},
   "outputs": [
    {
     "name": "stdout",
     "output_type": "stream",
     "text": [
      "3.5\n"
     ]
    }
   ],
   "source": [
    "import statistics\n",
    "\n",
    "data1 = [4, 7, 0, 3]\n",
    "final_mean = statistics.mean(data1)\n",
    "print(final_mean)"
   ]
  },
  {
   "cell_type": "code",
   "execution_count": 6,
   "metadata": {},
   "outputs": [
    {
     "name": "stdout",
     "output_type": "stream",
     "text": [
      "3.5\n"
     ]
    }
   ],
   "source": [
    "import statistics\n",
    "\n",
    "data1 = [2, -2, 3, 6, 9, 4, 5, -1]\n",
    "\n",
    "final_median = statistics.median(data1)\n",
    "print(final_median)"
   ]
  },
  {
   "cell_type": "code",
   "execution_count": 87,
   "metadata": {},
   "outputs": [],
   "source": [
    "# median\n",
    "# https://stackoverflow.com/a/24101534"
   ]
  },
  {
   "cell_type": "code",
   "execution_count": 16,
   "metadata": {},
   "outputs": [
    {
     "name": "stdout",
     "output_type": "stream",
     "text": [
      "sorted list is:   [-2, -1, 2, 3, 4, 5, 6, 9]\n",
      "length of the element is:  8\n",
      "index of element is:  3\n"
     ]
    },
    {
     "data": {
      "text/plain": [
       "3.5"
      ]
     },
     "execution_count": 16,
     "metadata": {},
     "output_type": "execute_result"
    }
   ],
   "source": [
    "data1 = [2, -2, 3, 6, 9, 4, 5, -1]\n",
    "\n",
    "def median(lst):\n",
    "    sortedlist = sorted(lst)\n",
    "    print('sorted list is:  ', sortedlist)\n",
    "    \n",
    "    lenlst = len(lst)\n",
    "    print('length of the element is: ', lenlst)\n",
    "    \n",
    "    index = (lenlst - 1) // 2\n",
    "    print('index of element is: ', index)\n",
    "    \n",
    "    if(lenlst % 2):\n",
    "        return sortedlist[index]\n",
    "    else:\n",
    "        return (sortedlist[index] + sortedlist[index + 1])/2\n",
    "        \n",
    "median(data1)"
   ]
  },
  {
   "cell_type": "code",
   "execution_count": null,
   "metadata": {},
   "outputs": [],
   "source": [
    "## variance method"
   ]
  },
  {
   "cell_type": "code",
   "execution_count": 17,
   "metadata": {},
   "outputs": [
    {
     "name": "stdout",
     "output_type": "stream",
     "text": [
      "13.071428571428571\n"
     ]
    }
   ],
   "source": [
    "print(statistics.variance(data1)) "
   ]
  },
  {
   "cell_type": "code",
   "execution_count": 19,
   "metadata": {},
   "outputs": [],
   "source": [
    "## standard deviation"
   ]
  },
  {
   "cell_type": "code",
   "execution_count": 20,
   "metadata": {},
   "outputs": [
    {
     "name": "stdout",
     "output_type": "stream",
     "text": [
      "3.615443067098218\n"
     ]
    }
   ],
   "source": [
    "print(statistics.stdev(data1)) "
   ]
  },
  {
   "cell_type": "code",
   "execution_count": null,
   "metadata": {},
   "outputs": [],
   "source": []
  },
  {
   "cell_type": "code",
   "execution_count": null,
   "metadata": {},
   "outputs": [],
   "source": []
  },
  {
   "cell_type": "markdown",
   "metadata": {},
   "source": [
    "## Euler Method"
   ]
  },
  {
   "cell_type": "code",
   "execution_count": 30,
   "metadata": {},
   "outputs": [
    {
     "data": {
      "text/plain": [
       "<matplotlib.image.AxesImage at 0x11b317e10>"
      ]
     },
     "execution_count": 30,
     "metadata": {},
     "output_type": "execute_result"
    },
    {
     "data": {
      "image/png": "[encoded data removed]",
      "text/plain": [
       "<Figure size 432x288 with 1 Axes>"
      ]
     },
     "metadata": {
      "needs_background": "light"
     },
     "output_type": "display_data"
    }
   ],
   "source": [
    "import cv2\n",
    "import matplotlib.pyplot as plt\n",
    "\n",
    "plt.title(\"Quadratic Formula\")\n",
    "quad = cv2.imread(\"images/1.png\")\n",
    "plt.imshow(quad)"
   ]
  },
  {
   "cell_type": "code",
   "execution_count": 23,
   "metadata": {},
   "outputs": [
    {
     "data": {
      "text/plain": [
       "<matplotlib.image.AxesImage at 0x11a968d68>"
      ]
     },
     "execution_count": 23,
     "metadata": {},
     "output_type": "execute_result"
    },
    {
     "data": {
      "image/png": "[encoded data removed]",
      "text/plain": [
       "<Figure size 432x288 with 1 Axes>"
      ]
     },
     "metadata": {
      "needs_background": "light"
     },
     "output_type": "display_data"
    }
   ],
   "source": [
    "import cv2\n",
    "import matplotlib.pyplot as plt\n",
    "\n",
    "plt.title(\"Quadratic Formula\")\n",
    "quad = cv2.imread(\"images/2.png\")\n",
    "plt.imshow(quad)"
   ]
  },
  {
   "cell_type": "code",
   "execution_count": 33,
   "metadata": {},
   "outputs": [
    {
     "data": {
      "text/plain": [
       "<matplotlib.image.AxesImage at 0x11b7d05c0>"
      ]
     },
     "execution_count": 33,
     "metadata": {},
     "output_type": "execute_result"
    },
    {
     "data": {
      "image/png": "[encoded data removed]",
      "text/plain": [
       "<Figure size 432x288 with 1 Axes>"
      ]
     },
     "metadata": {
      "needs_background": "light"
     },
     "output_type": "display_data"
    }
   ],
   "source": [
    "import cv2\n",
    "import matplotlib.pyplot as plt\n",
    "\n",
    "plt.title(\"Question One on Euler\")\n",
    "quad = cv2.imread(\"images/3.png\")\n",
    "plt.imshow(quad)"
   ]
  },
  {
   "cell_type": "code",
   "execution_count": 42,
   "metadata": {},
   "outputs": [
    {
     "name": "stdout",
     "output_type": "stream",
     "text": [
      "x \t\t y\n",
      "1.0 \t\t 0.5\n",
      "1.25 \t\t 1.0\n",
      "1.875 \t\t 1.5\n",
      "3.28125 \t\t 2.0\n"
     ]
    }
   ],
   "source": [
    "def dy(x,y):\n",
    "    z = x*y\n",
    "    return z\n",
    "\n",
    "# [0 , 2]\n",
    "x = 0\n",
    "xn = 2\n",
    "\n",
    "#y(0) = 1\n",
    "y = 1\n",
    "\n",
    "## step size\n",
    "h = 0.5\n",
    "\n",
    "print('x \\t\\t y')\n",
    "n = int((xn - x)/h)\n",
    "\n",
    "for i in range(n):\n",
    "    y = y + dy(x,y)*h\n",
    "    x = x + h\n",
    "    print(y, '\\t\\t', x)"
   ]
  },
  {
   "cell_type": "code",
   "execution_count": 76,
   "metadata": {},
   "outputs": [],
   "source": [
    "import matplotlib.pyplot as plt"
   ]
  },
  {
   "cell_type": "code",
   "execution_count": 100,
   "metadata": {},
   "outputs": [
    {
     "name": "stdout",
     "output_type": "stream",
     "text": [
      "x \t\t y(Euler) \t y(Analytical)\n",
      "1 \t\t 0 \t 1.0\n",
      "1.0 \t\t 0.25 \t\t  1.0317434074991028\n",
      "1.0625 \t\t 0.5 \t\t  1.1331484530668263\n",
      "1.1953125 \t\t 0.75 \t\t  1.3247847587288655\n",
      "1.41943359375 \t\t 1.0 \t\t  1.6487212707001282\n",
      "1.7742919921875 \t\t 1.25 \t\t  2.184200810815618\n",
      "2.3287582397460938 \t\t 1.5 \t\t  3.080216848918031\n",
      "3.202042579650879 \t\t 1.75 \t\t  4.6239531527820805\n",
      "4.602936208248138 \t\t 2.0 \t\t  7.38905609893065\n"
     ]
    },
    {
     "data": {
      "text/plain": [
       "Text(0, 0.5, 'y label')"
      ]
     },
     "execution_count": 100,
     "metadata": {},
     "output_type": "execute_result"
    },
    {
     "data": {
      "image/png": "[encoded data removed]",
      "text/plain": [
       "<Figure size 1080x360 with 1 Axes>"
      ]
     },
     "metadata": {
      "needs_background": "light"
     },
     "output_type": "display_data"
    }
   ],
   "source": [
    "from math import exp\n",
    "\n",
    "# dy = function(x,y)\n",
    "def dy(x,y):\n",
    "    z = x*y\n",
    "    return z\n",
    "\n",
    "def final(x):\n",
    "    f = exp(x**2/2)\n",
    "    return f\n",
    "\n",
    "## inital value of x and final value of x\n",
    "# [0 , 2]\n",
    "x = 0\n",
    "xn = 2\n",
    "\n",
    "#value y(0) = 1\n",
    "y = 1\n",
    "\n",
    "## step size\n",
    "h = 0.25\n",
    "\n",
    "## Table Header\n",
    "print('x \\t\\t y(Euler) \\t y(Analytical)')\n",
    "\n",
    "## Total number of steps\n",
    "n = int((xn - x)/h)\n",
    "\n",
    "## format output\n",
    "print(y, '\\t\\t', x, '\\t', final(x))\n",
    "\n",
    "listx = []\n",
    "listy = []\n",
    "listf = []\n",
    "\n",
    "for i in range(n):\n",
    "    y = y + dy(x,y)*h ## next y\n",
    "    x = x + h         ## x increament\n",
    "    print(y, '\\t\\t', x,  '\\t\\t ', final(x))\n",
    "    listx.append(x)\n",
    "    listy.append(y)\n",
    "    listf.append(final(x))\n",
    "\n",
    "# print(len(listx))\n",
    "# print(len(listy))\n",
    "# print(len(listf))\n",
    "\n",
    "plt.figure(figsize=(15, 5))\n",
    "plt.plot(listx , listy, label='x and y values')\n",
    "plt.title('euler method graph')\n",
    "plt.legend()\n",
    "plt.xlabel('x label')\n",
    "plt.ylabel('y label')"
   ]
  },
  {
   "cell_type": "code",
   "execution_count": 92,
   "metadata": {},
   "outputs": [
    {
     "name": "stdout",
     "output_type": "stream",
     "text": [
      "Collecting tabulate\n",
      "\u001b[?25l  Downloading https://files.pythonhosted.org/packages/66/d4/977fdd5186b7cdbb7c43a7aac7c5e4e0337a84cb802e154616f3cfc84563/tabulate-0.8.5.tar.gz (45kB)\n",
      "\u001b[K     |████████████████████████████████| 51kB 51kB/s eta 0:00:01\n",
      "\u001b[?25hBuilding wheels for collected packages: tabulate\n",
      "  Building wheel for tabulate (setup.py) ... \u001b[?25ldone\n",
      "\u001b[?25h  Created wheel for tabulate: filename=tabulate-0.8.5-cp36-none-any.whl size=22456 sha256=07652a2176e259e3215592f66e5509b61c9f4d571e614bda31081231a8e8ad3f\n",
      "  Stored in directory: /Users/pradyumgupta/Library/Caches/pip/wheels/e1/41/5e/e201f95d90fc84f93aa629b6638adacda680fe63aac47174ab\n",
      "Successfully built tabulate\n",
      "Installing collected packages: tabulate\n",
      "Successfully installed tabulate-0.8.5\n",
      "\u001b[33mWARNING: You are using pip version 19.2.2, however version 19.2.3 is available.\n",
      "You should consider upgrading via the 'pip install --upgrade pip' command.\u001b[0m\n"
     ]
    }
   ],
   "source": [
    "!pip install tabulate"
   ]
  },
  {
   "cell_type": "code",
   "execution_count": 24,
   "metadata": {},
   "outputs": [],
   "source": [
    "from tabulate import tabulate"
   ]
  },
  {
   "cell_type": "code",
   "execution_count": 95,
   "metadata": {},
   "outputs": [],
   "source": [
    "# print(tabulate([listx, listy, listf], headers=['x', 'y(Euler)', 'y(Analytical)']))"
   ]
  },
  {
   "cell_type": "code",
   "execution_count": null,
   "metadata": {},
   "outputs": [],
   "source": []
  },
  {
   "cell_type": "markdown",
   "metadata": {},
   "source": [
    "## Trapezoidal Rule"
   ]
  },
  {
   "cell_type": "code",
   "execution_count": 97,
   "metadata": {},
   "outputs": [],
   "source": [
    "# !open ."
   ]
  },
  {
   "cell_type": "code",
   "execution_count": null,
   "metadata": {},
   "outputs": [],
   "source": [
    "\"\"\"\n",
    "Compute the area of the curve by dividing the area into strips\n",
    "\n",
    "Each Area is calculated by Mathematical Rules\n",
    "\n",
    "Summed together to get the total Area under the curve\n",
    "\"\"\""
   ]
  },
  {
   "cell_type": "code",
   "execution_count": 98,
   "metadata": {},
   "outputs": [],
   "source": [
    "# from math import sin, pi\n",
    "\n",
    "# ## defination of function\n",
    "# def question(x):\n",
    "#     return x*sin(x)\n",
    "\n",
    "# ## lower limit of integration\n",
    "# a = 0\n",
    "# b = pi/2\n",
    "# n = 5"
   ]
  },
  {
   "cell_type": "code",
   "execution_count": null,
   "metadata": {},
   "outputs": [],
   "source": [
    "## width of the division\n",
    "# h = (b - a)/n"
   ]
  },
  {
   "cell_type": "code",
   "execution_count": null,
   "metadata": {},
   "outputs": [],
   "source": []
  },
  {
   "cell_type": "markdown",
   "metadata": {},
   "source": [
    "## Plotting a graph"
   ]
  },
  {
   "cell_type": "code",
   "execution_count": 6,
   "metadata": {},
   "outputs": [
    {
     "name": "stdout",
     "output_type": "stream",
     "text": [
      "Requirement already satisfied: matplotlib in /usr/local/lib/python3.6/site-packages (3.0.2)\n",
      "Requirement already satisfied: numpy>=1.10.0 in /usr/local/lib/python3.6/site-packages (from matplotlib) (1.16.2)\n",
      "Requirement already satisfied: kiwisolver>=1.0.1 in /usr/local/lib/python3.6/site-packages (from matplotlib) (1.0.1)\n",
      "Requirement already satisfied: cycler>=0.10 in /usr/local/lib/python3.6/site-packages (from matplotlib) (0.10.0)\n",
      "Requirement already satisfied: pyparsing!=2.0.4,!=2.1.2,!=2.1.6,>=2.0.1 in /usr/local/lib/python3.6/site-packages (from matplotlib) (2.3.1)\n",
      "Requirement already satisfied: python-dateutil>=2.1 in /usr/local/lib/python3.6/site-packages (from matplotlib) (2.8.0)\n",
      "Requirement already satisfied: setuptools in /usr/local/lib/python3.6/site-packages (from kiwisolver>=1.0.1->matplotlib) (41.0.0)\n",
      "Requirement already satisfied: six in /usr/local/lib/python3.6/site-packages (from cycler>=0.10->matplotlib) (1.12.0)\n"
     ]
    }
   ],
   "source": [
    "!pip3 install matplotlib"
   ]
  },
  {
   "cell_type": "code",
   "execution_count": 7,
   "metadata": {},
   "outputs": [
    {
     "name": "stdout",
     "output_type": "stream",
     "text": [
      "pip 19.2.3 from /usr/local/lib/python3.6/site-packages/pip (python 3.6)\r\n"
     ]
    }
   ],
   "source": [
    "!pip -V"
   ]
  },
  {
   "cell_type": "code",
   "execution_count": 17,
   "metadata": {},
   "outputs": [
    {
     "name": "stdout",
     "output_type": "stream",
     "text": [
      "\u001b[33mWARNING: Skipping matplotlib as it is not installed.\u001b[0m\r\n"
     ]
    }
   ],
   "source": [
    "!pip uninstall matplotlib"
   ]
  },
  {
   "cell_type": "code",
   "execution_count": 19,
   "metadata": {},
   "outputs": [
    {
     "name": "stdout",
     "output_type": "stream",
     "text": [
      "Collecting matplotlib\n",
      "\u001b[?25l  Downloading https://files.pythonhosted.org/packages/cf/a4/d5387a74204542a60ad1baa84cd2d3353c330e59be8cf2d47c0b11d3cde8/matplotlib-3.1.1-cp36-cp36m-macosx_10_6_intel.macosx_10_9_intel.macosx_10_9_x86_64.macosx_10_10_intel.macosx_10_10_x86_64.whl (14.4MB)\n",
      "\u001b[K     |████████████████████████████████| 14.4MB 5.7MB/s eta 0:00:01    |█████████▌                      | 4.2MB 2.1MB/s eta 0:00:05\n",
      "\u001b[?25hRequirement already satisfied: numpy>=1.11 in /usr/local/lib/python3.6/site-packages (from matplotlib) (1.16.2)\n",
      "Requirement already satisfied: python-dateutil>=2.1 in /usr/local/lib/python3.6/site-packages (from matplotlib) (2.8.0)\n",
      "Requirement already satisfied: cycler>=0.10 in /usr/local/lib/python3.6/site-packages (from matplotlib) (0.10.0)\n",
      "Requirement already satisfied: kiwisolver>=1.0.1 in /usr/local/lib/python3.6/site-packages (from matplotlib) (1.0.1)\n",
      "Requirement already satisfied: pyparsing!=2.0.4,!=2.1.2,!=2.1.6,>=2.0.1 in /usr/local/lib/python3.6/site-packages (from matplotlib) (2.3.1)\n",
      "Requirement already satisfied: six>=1.5 in /usr/local/lib/python3.6/site-packages (from python-dateutil>=2.1->matplotlib) (1.12.0)\n",
      "Requirement already satisfied: setuptools in /usr/local/lib/python3.6/site-packages (from kiwisolver>=1.0.1->matplotlib) (41.0.0)\n",
      "Installing collected packages: matplotlib\n",
      "Successfully installed matplotlib-3.1.1\n"
     ]
    }
   ],
   "source": [
    "!pip install matplotlib"
   ]
  },
  {
   "cell_type": "code",
   "execution_count": 21,
   "metadata": {},
   "outputs": [
    {
     "ename": "AttributeError",
     "evalue": "module 'matplotlib.cbook' has no attribute '_delete_parameter'",
     "output_type": "error",
     "traceback": [
      "\u001b[0;31m---------------------------------------------------------------------------\u001b[0m",
      "\u001b[0;31mAttributeError\u001b[0m                            Traceback (most recent call last)",
      "\u001b[0;32m<ipython-input-21-a0d2faabd9e9>\u001b[0m in \u001b[0;36m<module>\u001b[0;34m\u001b[0m\n\u001b[0;32m----> 1\u001b[0;31m \u001b[0;32mimport\u001b[0m \u001b[0mmatplotlib\u001b[0m\u001b[0;34m.\u001b[0m\u001b[0mpyplot\u001b[0m \u001b[0;32mas\u001b[0m \u001b[0mplt\u001b[0m\u001b[0;34m\u001b[0m\u001b[0m\n\u001b[0m",
      "\u001b[0;32m/usr/local/lib/python3.6/site-packages/matplotlib/pyplot.py\u001b[0m in \u001b[0;36m<module>\u001b[0;34m\u001b[0m\n\u001b[1;32m     31\u001b[0m \u001b[0;32mimport\u001b[0m \u001b[0mmatplotlib\u001b[0m\u001b[0;34m\u001b[0m\u001b[0m\n\u001b[1;32m     32\u001b[0m \u001b[0;32mimport\u001b[0m \u001b[0mmatplotlib\u001b[0m\u001b[0;34m.\u001b[0m\u001b[0mcolorbar\u001b[0m\u001b[0;34m\u001b[0m\u001b[0m\n\u001b[0;32m---> 33\u001b[0;31m \u001b[0;32mimport\u001b[0m \u001b[0mmatplotlib\u001b[0m\u001b[0;34m.\u001b[0m\u001b[0mimage\u001b[0m\u001b[0;34m\u001b[0m\u001b[0m\n\u001b[0m\u001b[1;32m     34\u001b[0m \u001b[0;32mfrom\u001b[0m \u001b[0mmatplotlib\u001b[0m \u001b[0;32mimport\u001b[0m \u001b[0mrcsetup\u001b[0m\u001b[0;34m,\u001b[0m \u001b[0mstyle\u001b[0m\u001b[0;34m\u001b[0m\u001b[0m\n\u001b[1;32m     35\u001b[0m \u001b[0;32mfrom\u001b[0m \u001b[0mmatplotlib\u001b[0m \u001b[0;32mimport\u001b[0m \u001b[0m_pylab_helpers\u001b[0m\u001b[0;34m,\u001b[0m \u001b[0minteractive\u001b[0m\u001b[0;34m\u001b[0m\u001b[0m\n",
      "\u001b[0;32m/usr/local/lib/python3.6/site-packages/matplotlib/image.py\u001b[0m in \u001b[0;36m<module>\u001b[0;34m\u001b[0m\n\u001b[1;32m   1271\u001b[0m \u001b[0;34m\u001b[0m\u001b[0m\n\u001b[1;32m   1272\u001b[0m \u001b[0;34m\u001b[0m\u001b[0m\n\u001b[0;32m-> 1273\u001b[0;31m \u001b[0;32mclass\u001b[0m \u001b[0mBboxImage\u001b[0m\u001b[0;34m(\u001b[0m\u001b[0m_ImageBase\u001b[0m\u001b[0;34m)\u001b[0m\u001b[0;34m:\u001b[0m\u001b[0;34m\u001b[0m\u001b[0m\n\u001b[0m\u001b[1;32m   1274\u001b[0m     \u001b[0;34m\"\"\"The Image class whose size is determined by the given bbox.\"\"\"\u001b[0m\u001b[0;34m\u001b[0m\u001b[0m\n\u001b[1;32m   1275\u001b[0m \u001b[0;34m\u001b[0m\u001b[0m\n",
      "\u001b[0;32m/usr/local/lib/python3.6/site-packages/matplotlib/image.py\u001b[0m in \u001b[0;36mBboxImage\u001b[0;34m()\u001b[0m\n\u001b[1;32m   1274\u001b[0m     \u001b[0;34m\"\"\"The Image class whose size is determined by the given bbox.\"\"\"\u001b[0m\u001b[0;34m\u001b[0m\u001b[0m\n\u001b[1;32m   1275\u001b[0m \u001b[0;34m\u001b[0m\u001b[0m\n\u001b[0;32m-> 1276\u001b[0;31m     \u001b[0;34m@\u001b[0m\u001b[0mcbook\u001b[0m\u001b[0;34m.\u001b[0m\u001b[0m_delete_parameter\u001b[0m\u001b[0;34m(\u001b[0m\u001b[0;34m\"3.1\"\u001b[0m\u001b[0;34m,\u001b[0m \u001b[0;34m\"interp_at_native\"\u001b[0m\u001b[0;34m)\u001b[0m\u001b[0;34m\u001b[0m\u001b[0m\n\u001b[0m\u001b[1;32m   1277\u001b[0m     def __init__(self, bbox,\n\u001b[1;32m   1278\u001b[0m                  \u001b[0mcmap\u001b[0m\u001b[0;34m=\u001b[0m\u001b[0;32mNone\u001b[0m\u001b[0;34m,\u001b[0m\u001b[0;34m\u001b[0m\u001b[0m\n",
      "\u001b[0;31mAttributeError\u001b[0m: module 'matplotlib.cbook' has no attribute '_delete_parameter'"
     ]
    }
   ],
   "source": [
    "import matplotlib.pyplot as plt"
   ]
  },
  {
   "cell_type": "code",
   "execution_count": 23,
   "metadata": {},
   "outputs": [
    {
     "ename": "AttributeError",
     "evalue": "module 'matplotlib.cbook' has no attribute '_delete_parameter'",
     "output_type": "error",
     "traceback": [
      "\u001b[0;31m---------------------------------------------------------------------------\u001b[0m",
      "\u001b[0;31mAttributeError\u001b[0m                            Traceback (most recent call last)",
      "\u001b[0;32m<ipython-input-23-b332b5957143>\u001b[0m in \u001b[0;36m<module>\u001b[0;34m\u001b[0m\n\u001b[0;32m----> 1\u001b[0;31m \u001b[0;32mimport\u001b[0m \u001b[0mmatplotlib\u001b[0m\u001b[0;34m.\u001b[0m\u001b[0mpyplot\u001b[0m \u001b[0;32mas\u001b[0m \u001b[0mplt\u001b[0m\u001b[0;34m\u001b[0m\u001b[0m\n\u001b[0m\u001b[1;32m      2\u001b[0m \u001b[0;34m\u001b[0m\u001b[0m\n\u001b[1;32m      3\u001b[0m \u001b[0mdim_x\u001b[0m \u001b[0;34m=\u001b[0m \u001b[0;34m[\u001b[0m\u001b[0;36m25\u001b[0m\u001b[0;34m,\u001b[0m \u001b[0;36m26\u001b[0m\u001b[0;34m,\u001b[0m \u001b[0;36m27\u001b[0m\u001b[0;34m,\u001b[0m \u001b[0;36m28\u001b[0m\u001b[0;34m,\u001b[0m \u001b[0;36m29\u001b[0m\u001b[0;34m,\u001b[0m \u001b[0;36m30\u001b[0m\u001b[0;34m,\u001b[0m \u001b[0;36m31\u001b[0m\u001b[0;34m,\u001b[0m \u001b[0;36m32\u001b[0m\u001b[0;34m]\u001b[0m\u001b[0;34m\u001b[0m\u001b[0m\n\u001b[1;32m      4\u001b[0m \u001b[0;34m\u001b[0m\u001b[0m\n\u001b[1;32m      5\u001b[0m \u001b[0mdim_y\u001b[0m \u001b[0;34m=\u001b[0m \u001b[0;34m[\u001b[0m\u001b[0;36m3909\u001b[0m\u001b[0;34m,\u001b[0m \u001b[0;36m8298\u001b[0m\u001b[0;34m,\u001b[0m \u001b[0;36m8291\u001b[0m\u001b[0;34m,\u001b[0m \u001b[0;36m2038\u001b[0m\u001b[0;34m,\u001b[0m \u001b[0;36m2378\u001b[0m\u001b[0;34m,\u001b[0m \u001b[0;36m2121\u001b[0m\u001b[0;34m,\u001b[0m \u001b[0;36m4242\u001b[0m\u001b[0;34m,\u001b[0m \u001b[0;36m2121\u001b[0m\u001b[0;34m]\u001b[0m\u001b[0;34m\u001b[0m\u001b[0m\n",
      "\u001b[0;32m/usr/local/lib/python3.6/site-packages/matplotlib/pyplot.py\u001b[0m in \u001b[0;36m<module>\u001b[0;34m\u001b[0m\n\u001b[1;32m     31\u001b[0m \u001b[0;32mimport\u001b[0m \u001b[0mmatplotlib\u001b[0m\u001b[0;34m\u001b[0m\u001b[0m\n\u001b[1;32m     32\u001b[0m \u001b[0;32mimport\u001b[0m \u001b[0mmatplotlib\u001b[0m\u001b[0;34m.\u001b[0m\u001b[0mcolorbar\u001b[0m\u001b[0;34m\u001b[0m\u001b[0m\n\u001b[0;32m---> 33\u001b[0;31m \u001b[0;32mimport\u001b[0m \u001b[0mmatplotlib\u001b[0m\u001b[0;34m.\u001b[0m\u001b[0mimage\u001b[0m\u001b[0;34m\u001b[0m\u001b[0m\n\u001b[0m\u001b[1;32m     34\u001b[0m \u001b[0;32mfrom\u001b[0m \u001b[0mmatplotlib\u001b[0m \u001b[0;32mimport\u001b[0m \u001b[0mrcsetup\u001b[0m\u001b[0;34m,\u001b[0m \u001b[0mstyle\u001b[0m\u001b[0;34m\u001b[0m\u001b[0m\n\u001b[1;32m     35\u001b[0m \u001b[0;32mfrom\u001b[0m \u001b[0mmatplotlib\u001b[0m \u001b[0;32mimport\u001b[0m \u001b[0m_pylab_helpers\u001b[0m\u001b[0;34m,\u001b[0m \u001b[0minteractive\u001b[0m\u001b[0;34m\u001b[0m\u001b[0m\n",
      "\u001b[0;32m/usr/local/lib/python3.6/site-packages/matplotlib/image.py\u001b[0m in \u001b[0;36m<module>\u001b[0;34m\u001b[0m\n\u001b[1;32m   1271\u001b[0m \u001b[0;34m\u001b[0m\u001b[0m\n\u001b[1;32m   1272\u001b[0m \u001b[0;34m\u001b[0m\u001b[0m\n\u001b[0;32m-> 1273\u001b[0;31m \u001b[0;32mclass\u001b[0m \u001b[0mBboxImage\u001b[0m\u001b[0;34m(\u001b[0m\u001b[0m_ImageBase\u001b[0m\u001b[0;34m)\u001b[0m\u001b[0;34m:\u001b[0m\u001b[0;34m\u001b[0m\u001b[0m\n\u001b[0m\u001b[1;32m   1274\u001b[0m     \u001b[0;34m\"\"\"The Image class whose size is determined by the given bbox.\"\"\"\u001b[0m\u001b[0;34m\u001b[0m\u001b[0m\n\u001b[1;32m   1275\u001b[0m \u001b[0;34m\u001b[0m\u001b[0m\n",
      "\u001b[0;32m/usr/local/lib/python3.6/site-packages/matplotlib/image.py\u001b[0m in \u001b[0;36mBboxImage\u001b[0;34m()\u001b[0m\n\u001b[1;32m   1274\u001b[0m     \u001b[0;34m\"\"\"The Image class whose size is determined by the given bbox.\"\"\"\u001b[0m\u001b[0;34m\u001b[0m\u001b[0m\n\u001b[1;32m   1275\u001b[0m \u001b[0;34m\u001b[0m\u001b[0m\n\u001b[0;32m-> 1276\u001b[0;31m     \u001b[0;34m@\u001b[0m\u001b[0mcbook\u001b[0m\u001b[0;34m.\u001b[0m\u001b[0m_delete_parameter\u001b[0m\u001b[0;34m(\u001b[0m\u001b[0;34m\"3.1\"\u001b[0m\u001b[0;34m,\u001b[0m \u001b[0;34m\"interp_at_native\"\u001b[0m\u001b[0;34m)\u001b[0m\u001b[0;34m\u001b[0m\u001b[0m\n\u001b[0m\u001b[1;32m   1277\u001b[0m     def __init__(self, bbox,\n\u001b[1;32m   1278\u001b[0m                  \u001b[0mcmap\u001b[0m\u001b[0;34m=\u001b[0m\u001b[0;32mNone\u001b[0m\u001b[0;34m,\u001b[0m\u001b[0;34m\u001b[0m\u001b[0m\n",
      "\u001b[0;31mAttributeError\u001b[0m: module 'matplotlib.cbook' has no attribute '_delete_parameter'"
     ]
    }
   ],
   "source": [
    "import matplotlib.pyplot as plt\n",
    "\n",
    "dim_x = [25, 26, 27, 28, 29, 30, 31, 32]\n",
    "\n",
    "dim_y = [3909, 8298, 8291, 2038, 2378, 2121, 4242, 2121]\n",
    "\n",
    "dim_z = [1010, 1022, 1111, 2211, 21212, 3223, 121212, 9090]\n",
    "\n",
    "# plt.plot(dim_x, dim_y)\n",
    "#\n",
    "# plt.plot(dim_x, dim_z)\n",
    "\n",
    "### Plot maps\n",
    "plt.plot(dim_x, dim_y, 'k--', label='All Devs')\n",
    "\n",
    "plt.plot(dim_x, dim_z, 'b', label='Python')\n",
    "\n",
    "plt.xlabel('Ages')\n",
    "\n",
    "plt.ylabel('Median Salary (USD)')\n",
    "\n",
    "plt.title('Median Salary (USD) by AGE')\n",
    "\n",
    "plt.legend()\n",
    "\n",
    "plt.show()\n"
   ]
  },
  {
   "cell_type": "code",
   "execution_count": null,
   "metadata": {},
   "outputs": [],
   "source": []
  },
  {
   "cell_type": "code",
   "execution_count": null,
   "metadata": {},
   "outputs": [],
   "source": []
  },
  {
   "cell_type": "code",
   "execution_count": null,
   "metadata": {},
   "outputs": [],
   "source": []
  }
 ],
 "metadata": {
  "kernelspec": {
   "display_name": "Python 3",
   "language": "python",
   "name": "python3"
  },
  "language_info": {
   "codemirror_mode": {
    "name": "ipython",
    "version": 3
   },
   "file_extension": ".py",
   "mimetype": "text/x-python",
   "name": "python",
   "nbconvert_exporter": "python",
   "pygments_lexer": "ipython3",
   "version": "3.6.5"
  }
 },
 "nbformat": 4,
 "nbformat_minor": 2
}
